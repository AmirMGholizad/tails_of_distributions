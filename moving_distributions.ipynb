{
 "cells": [
  {
   "cell_type": "code",
   "execution_count": 1,
   "metadata": {},
   "outputs": [],
   "source": [
    "import time\n",
    "import datetime\n",
    "import functions as fs\n",
    "import numpy as np\n",
    "import pandas as pd\n",
    "import yfinance as yf\n",
    "import matplotlib.pyplot as plt"
   ]
  },
  {
   "cell_type": "code",
   "execution_count": 4,
   "metadata": {},
   "outputs": [
    {
     "name": "stdout",
     "output_type": "stream",
     "text": [
      "[*********************100%%**********************]  1 of 1 completed\n",
      "[*********************100%%**********************]  1 of 1 completed\n",
      "[*********************100%%**********************]  1 of 1 completed\n"
     ]
    }
   ],
   "source": [
    "ticker = \"^GSPC\"\n",
    "start_date = \"2000-01-01\"\n",
    "end_date = \"2023-01-01\"\n",
    "\n",
    "day_data = fs.yahoodata(ticker=ticker,\n",
    "                        period1=start_date,\n",
    "                        period2=end_date,\n",
    "                        interval=\"1d\").getdata()\n",
    "week_data = fs.yahoodata(ticker=ticker,\n",
    "                        period1=start_date,\n",
    "                        period2=end_date,\n",
    "                        interval=\"1wk\").getdata()\n",
    "month_data = day_data = fs.yahoodata(ticker=ticker,\n",
    "                        period1=start_date,\n",
    "                        period2=end_date,\n",
    "                        interval=\"1mo\").getdata()"
   ]
  }
 ],
 "metadata": {
  "kernelspec": {
   "display_name": "CMSC6950Final",
   "language": "python",
   "name": "python3"
  },
  "language_info": {
   "codemirror_mode": {
    "name": "ipython",
    "version": 3
   },
   "file_extension": ".py",
   "mimetype": "text/x-python",
   "name": "python",
   "nbconvert_exporter": "python",
   "pygments_lexer": "ipython3",
   "version": "3.12.0"
  }
 },
 "nbformat": 4,
 "nbformat_minor": 2
}
